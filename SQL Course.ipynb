{
 "cells": [
  {
   "cell_type": "raw",
   "id": "599fe31d-9979-4665-96f3-6aca08ca71af",
   "metadata": {},
   "source": [
    "---\n",
    "title: Database and SQL Course\n",
    "author: 'Eric Hao'\n",
    "date: 'Jan 9, 2024'\n",
    "format:\n",
    "    html:\n",
    "        code-fold: true\n",
    "    pdf:\n",
    "        code-folde: true\n",
    "---"
   ]
  },
  {
   "cell_type": "markdown",
   "id": "5dc61a22-d16c-42e0-9622-83a6a29db4b4",
   "metadata": {},
   "source": [
    "# Database and SQL course\n",
    "Welcome to introduction to Database and SQL\n",
    "\n",
    "Structure Query Language(SQL, usually pronounced S-Q-L or 'sequel') is a programming language designed for the data manipulation with database system, mostly with relational DBMS, like MySQL, PostgreSQL and Oracle\n",
    "\n",
    "In this course, we will act as a data analyst for a fictional superstore. Our job is to transform raw data into information and clean it to the tabluar format, and do the data exploration with different business purpose, prepare the story-telling for the stakeholders.\n",
    "\n",
    "In this folder, we have the two csv files, we will use python to create a basic sales database and use the SQL to query the data. And gradually we will advance to more complex queries with advance data anlysis skills like data wrangling, data filtering, sorting, grouping and statstical analysis.\n",
    "\n",
    "By the end of this course, you will be able to write queries like the one shown, which can return a list of the sales data, can compare different store, different category goods, their sales volume and profits.\n",
    "\n",
    "Don't worry if it seems daunting now; we'll master it step by step;\n",
    "\n",
    "Notes: this course focus on the SQL, so some background knowledge on the jupyter notebook and pandas etc, please see the resource on the web.\n"
   ]
  },
  {
   "cell_type": "markdown",
   "id": "6d75ba1b-d79e-4526-8c16-caaec2baba56",
   "metadata": {},
   "source": [
    "# Prepare the data\n",
    "\n",
    "First we need import the necessary python package"
   ]
  },
  {
   "cell_type": "code",
   "execution_count": 14,
   "id": "951e1385-c198-499c-b1fe-c9569836a559",
   "metadata": {},
   "outputs": [],
   "source": [
    "import numpy as np\n",
    "import pandas as pd\n",
    "import duckdb\n",
    "sql = lambda s: duckdb.sql(s)"
   ]
  },
  {
   "cell_type": "markdown",
   "id": "87100584-4818-412c-8254-5a48322de7e2",
   "metadata": {},
   "source": [
    "## Load the sales data"
   ]
  },
  {
   "cell_type": "code",
   "execution_count": 16,
   "id": "19f0c8c8-0c13-40f7-90d0-fc04818987a2",
   "metadata": {},
   "outputs": [
    {
     "data": {
      "text/html": [
       "<div>\n",
       "<style scoped>\n",
       "    .dataframe tbody tr th:only-of-type {\n",
       "        vertical-align: middle;\n",
       "    }\n",
       "\n",
       "    .dataframe tbody tr th {\n",
       "        vertical-align: top;\n",
       "    }\n",
       "\n",
       "    .dataframe thead th {\n",
       "        text-align: right;\n",
       "    }\n",
       "</style>\n",
       "<table border=\"1\" class=\"dataframe\">\n",
       "  <thead>\n",
       "    <tr style=\"text-align: right;\">\n",
       "      <th></th>\n",
       "      <th>Order ID</th>\n",
       "      <th>Order Date</th>\n",
       "      <th>CustomerName</th>\n",
       "      <th>State</th>\n",
       "      <th>City</th>\n",
       "      <th>Amount</th>\n",
       "      <th>Profit</th>\n",
       "      <th>Quantity</th>\n",
       "      <th>Category</th>\n",
       "      <th>Sub-Category</th>\n",
       "      <th>PaymentMode</th>\n",
       "    </tr>\n",
       "  </thead>\n",
       "  <tbody>\n",
       "    <tr>\n",
       "      <th>0</th>\n",
       "      <td>B-26055</td>\n",
       "      <td>10-03-2018</td>\n",
       "      <td>Harivansh</td>\n",
       "      <td>Uttar Pradesh</td>\n",
       "      <td>Mathura</td>\n",
       "      <td>5729</td>\n",
       "      <td>64</td>\n",
       "      <td>14</td>\n",
       "      <td>Furniture</td>\n",
       "      <td>Chairs</td>\n",
       "      <td>EMI</td>\n",
       "    </tr>\n",
       "    <tr>\n",
       "      <th>1</th>\n",
       "      <td>B-26055</td>\n",
       "      <td>10-03-2018</td>\n",
       "      <td>Harivansh</td>\n",
       "      <td>Uttar Pradesh</td>\n",
       "      <td>Mathura</td>\n",
       "      <td>671</td>\n",
       "      <td>114</td>\n",
       "      <td>9</td>\n",
       "      <td>Electronics</td>\n",
       "      <td>Phones</td>\n",
       "      <td>Credit Card</td>\n",
       "    </tr>\n",
       "    <tr>\n",
       "      <th>2</th>\n",
       "      <td>B-26055</td>\n",
       "      <td>10-03-2018</td>\n",
       "      <td>Harivansh</td>\n",
       "      <td>Uttar Pradesh</td>\n",
       "      <td>Mathura</td>\n",
       "      <td>443</td>\n",
       "      <td>11</td>\n",
       "      <td>1</td>\n",
       "      <td>Clothing</td>\n",
       "      <td>Saree</td>\n",
       "      <td>COD</td>\n",
       "    </tr>\n",
       "  </tbody>\n",
       "</table>\n",
       "</div>"
      ],
      "text/plain": [
       "  Order ID  Order Date CustomerName          State     City  Amount  Profit  \\\n",
       "0  B-26055  10-03-2018    Harivansh  Uttar Pradesh  Mathura    5729      64   \n",
       "1  B-26055  10-03-2018    Harivansh  Uttar Pradesh  Mathura     671     114   \n",
       "2  B-26055  10-03-2018    Harivansh  Uttar Pradesh  Mathura     443      11   \n",
       "\n",
       "   Quantity     Category Sub-Category  PaymentMode  \n",
       "0        14    Furniture       Chairs          EMI  \n",
       "1         9  Electronics       Phones  Credit Card  \n",
       "2         1     Clothing        Saree          COD  "
      ]
     },
     "execution_count": 16,
     "metadata": {},
     "output_type": "execute_result"
    }
   ],
   "source": [
    "df1 = pd.read_csv('./orders.csv')\n",
    "df2 = pd.read_csv('./details.csv')\n",
    "sales_df = pd.merge(df1,df2,on='Order ID')\n",
    "sales_df.head(3)"
   ]
  },
  {
   "cell_type": "markdown",
   "id": "8ce3a0e3-e82e-4962-bb86-1fd7e7762893",
   "metadata": {},
   "source": [
    "## Do some data type tranformation\n",
    "\n",
    "### Transform the column into the table compatible format"
   ]
  },
  {
   "cell_type": "code",
   "execution_count": 21,
   "id": "df87afd8-af1d-4797-b343-4bc4e6da6571",
   "metadata": {},
   "outputs": [
    {
     "data": {
      "text/plain": [
       "Index(['order_id', 'order_date', 'customername', 'state', 'city', 'amount',\n",
       "       'profit', 'quantity', 'category', 'sub-category', 'paymentmode'],\n",
       "      dtype='object')"
      ]
     },
     "execution_count": 21,
     "metadata": {},
     "output_type": "execute_result"
    }
   ],
   "source": [
    "sales_df.columns = df.columns.map(lambda c: '_'.join(c.lower().split(' ')))\n",
    "sales_df.columns"
   ]
  },
  {
   "cell_type": "markdown",
   "id": "83f9335c-b3e5-457e-8d56-788f9b4e4a44",
   "metadata": {},
   "source": [
    "### Convert the order date the pandas datetime data type"
   ]
  },
  {
   "cell_type": "code",
   "execution_count": 23,
   "id": "75bfd348-da1f-493a-b911-c8d8a65cfefc",
   "metadata": {},
   "outputs": [],
   "source": [
    "sales_df['order_date'] = pd.to_datetime(sales_df['order_date'],format='%d-%m-%Y')"
   ]
  },
  {
   "cell_type": "code",
   "execution_count": 24,
   "id": "00638e91-b569-4447-b80c-7b58d00898d4",
   "metadata": {},
   "outputs": [
    {
     "data": {
      "text/html": [
       "<div>\n",
       "<style scoped>\n",
       "    .dataframe tbody tr th:only-of-type {\n",
       "        vertical-align: middle;\n",
       "    }\n",
       "\n",
       "    .dataframe tbody tr th {\n",
       "        vertical-align: top;\n",
       "    }\n",
       "\n",
       "    .dataframe thead th {\n",
       "        text-align: right;\n",
       "    }\n",
       "</style>\n",
       "<table border=\"1\" class=\"dataframe\">\n",
       "  <thead>\n",
       "    <tr style=\"text-align: right;\">\n",
       "      <th></th>\n",
       "      <th>order_id</th>\n",
       "      <th>order_date</th>\n",
       "      <th>customername</th>\n",
       "      <th>state</th>\n",
       "      <th>city</th>\n",
       "      <th>amount</th>\n",
       "      <th>profit</th>\n",
       "      <th>quantity</th>\n",
       "      <th>category</th>\n",
       "      <th>sub-category</th>\n",
       "      <th>paymentmode</th>\n",
       "    </tr>\n",
       "  </thead>\n",
       "  <tbody>\n",
       "    <tr>\n",
       "      <th>0</th>\n",
       "      <td>B-26055</td>\n",
       "      <td>2018-03-10</td>\n",
       "      <td>Harivansh</td>\n",
       "      <td>Uttar Pradesh</td>\n",
       "      <td>Mathura</td>\n",
       "      <td>5729</td>\n",
       "      <td>64</td>\n",
       "      <td>14</td>\n",
       "      <td>Furniture</td>\n",
       "      <td>Chairs</td>\n",
       "      <td>EMI</td>\n",
       "    </tr>\n",
       "    <tr>\n",
       "      <th>1</th>\n",
       "      <td>B-26055</td>\n",
       "      <td>2018-03-10</td>\n",
       "      <td>Harivansh</td>\n",
       "      <td>Uttar Pradesh</td>\n",
       "      <td>Mathura</td>\n",
       "      <td>671</td>\n",
       "      <td>114</td>\n",
       "      <td>9</td>\n",
       "      <td>Electronics</td>\n",
       "      <td>Phones</td>\n",
       "      <td>Credit Card</td>\n",
       "    </tr>\n",
       "    <tr>\n",
       "      <th>2</th>\n",
       "      <td>B-26055</td>\n",
       "      <td>2018-03-10</td>\n",
       "      <td>Harivansh</td>\n",
       "      <td>Uttar Pradesh</td>\n",
       "      <td>Mathura</td>\n",
       "      <td>443</td>\n",
       "      <td>11</td>\n",
       "      <td>1</td>\n",
       "      <td>Clothing</td>\n",
       "      <td>Saree</td>\n",
       "      <td>COD</td>\n",
       "    </tr>\n",
       "  </tbody>\n",
       "</table>\n",
       "</div>"
      ],
      "text/plain": [
       "  order_id order_date customername          state     city  amount  profit  \\\n",
       "0  B-26055 2018-03-10    Harivansh  Uttar Pradesh  Mathura    5729      64   \n",
       "1  B-26055 2018-03-10    Harivansh  Uttar Pradesh  Mathura     671     114   \n",
       "2  B-26055 2018-03-10    Harivansh  Uttar Pradesh  Mathura     443      11   \n",
       "\n",
       "   quantity     category sub-category  paymentmode  \n",
       "0        14    Furniture       Chairs          EMI  \n",
       "1         9  Electronics       Phones  Credit Card  \n",
       "2         1     Clothing        Saree          COD  "
      ]
     },
     "execution_count": 24,
     "metadata": {},
     "output_type": "execute_result"
    }
   ],
   "source": [
    "sales_df.head(3)"
   ]
  },
  {
   "cell_type": "markdown",
   "id": "7373bfc4-f7d3-49e5-bfae-38fa5a12dd11",
   "metadata": {},
   "source": [
    "## Query the data with the duckdb sql capability"
   ]
  },
  {
   "cell_type": "code",
   "execution_count": 26,
   "id": "a4262810-b873-4256-a427-ff806fcbeef1",
   "metadata": {},
   "outputs": [
    {
     "data": {
      "text/plain": [
       "┌──────────┬─────────────────────┬──────────────┬───┬──────────┬─────────────┬──────────────┬─────────────┐\n",
       "│ order_id │     order_date      │ customername │ … │ quantity │  category   │ sub-category │ paymentmode │\n",
       "│ varchar  │    timestamp_ns     │   varchar    │   │  int64   │   varchar   │   varchar    │   varchar   │\n",
       "├──────────┼─────────────────────┼──────────────┼───┼──────────┼─────────────┼──────────────┼─────────────┤\n",
       "│ B-26055  │ 2018-03-10 00:00:00 │ Harivansh    │ … │       14 │ Furniture   │ Chairs       │ EMI         │\n",
       "│ B-26055  │ 2018-03-10 00:00:00 │ Harivansh    │ … │        9 │ Electronics │ Phones       │ Credit Card │\n",
       "│ B-26055  │ 2018-03-10 00:00:00 │ Harivansh    │ … │        1 │ Clothing    │ Saree        │ COD         │\n",
       "├──────────┴─────────────────────┴──────────────┴───┴──────────┴─────────────┴──────────────┴─────────────┤\n",
       "│ 3 rows                                                                             11 columns (7 shown) │\n",
       "└─────────────────────────────────────────────────────────────────────────────────────────────────────────┘"
      ]
     },
     "execution_count": 26,
     "metadata": {},
     "output_type": "execute_result"
    }
   ],
   "source": [
    "sql('select * from sales_df limit 3')"
   ]
  },
  {
   "cell_type": "markdown",
   "id": "8ec1b72a-6029-44aa-b772-9ccfc3c2330c",
   "metadata": {},
   "source": [
    "## First SQL we try to say hello to database\n",
    "Now the duckdb database has only one table sales_df, which contains information about the orders from the superstore stores, our first line of code is to retrieve the first 3 rows of this tables:\n",
    "```sql\n",
    "SELECT *\n",
    "    FROM sales_df\n",
    "    LIMIT 3;\n",
    "```\n",
    "Let's explain this code a little further:\n",
    " - \\* is a special character meaning 'all the column of the table'. We will learn more about the SELECtclause later, but for now we can read this line as 'Select all columns'\n",
    " - FROM clause tell database which table that we want to retrieve the data. We will learn more about how to identify the database tables and how to manage them.\n",
    " - LIMIT 3 tell the database the result return from limit to 3 records. A table might have millions rows of data, attempting to return all the data could get messy.\n",
    " "
   ]
  },
  {
   "cell_type": "markdown",
   "id": "d505dc7f-0baf-423b-9960-7bfbeb7a84bb",
   "metadata": {},
   "source": [
    "### Different SQL Dialects\n",
    "There are many different versions of SQL(also called SQL flavors or diablects(. We have benn coding against DuckDB, which is complied to the ANSI SQL standard, other database like MySQL and Oracle Database also support the ANSI SQL standard, but they all have their own dialects to empower their capability, we need take an eyes on the difference when we work on the specific database engine.\n",
    "\n",
    "![sql engine](./images/sql_engine.png)\n"
   ]
  },
  {
   "cell_type": "markdown",
   "id": "473d0d90-dd4c-44f6-9e30-83019923fd58",
   "metadata": {},
   "source": [
    "### Database tables and fields\n",
    "Most database we will work with are like superstore database has multiple tables of data.\n",
    "Like a sheet in Excel, a database table consists of rows and columns which are offen called records and fields.\n",
    "\n",
    "![database tables](./images/tables.png)"
   ]
  },
  {
   "cell_type": "markdown",
   "id": "fa24ddb5-7231-4c2f-b428-758c72faba1d",
   "metadata": {},
   "source": [
    "### First Example: Select all columns from sales table\n",
    "```sql\n",
    "SELECT * \n",
    "    FROM sales_df \n",
    "    LIMIT 3;\n",
    "```\n",
    "As we introduce the say hello to the database tables, we can select all the columns from the database tables;\n",
    "\n",
    "But what about reducing the number of fields shown? As we learned earlier, we can retrieve the data from all data field in a table with help of the \\* wildcard. If we want to select the specific fields to be return by the query, we can list them in the SELECT clause, seperated by commas:\n",
    "\n",
    "```sql\n",
    "SELECT order_date, customername, category \n",
    "    FROM sales_df\n",
    "    LIMIT 5;\n",
    "```"
   ]
  },
  {
   "cell_type": "code",
   "execution_count": 27,
   "id": "75fb66f2-7b81-4943-8fbc-2ba456d40f7f",
   "metadata": {},
   "outputs": [
    {
     "data": {
      "text/plain": [
       "┌─────────────────────┬──────────────┬─────────────┐\n",
       "│     order_date      │ customername │  category   │\n",
       "│    timestamp_ns     │   varchar    │   varchar   │\n",
       "├─────────────────────┼──────────────┼─────────────┤\n",
       "│ 2018-03-10 00:00:00 │ Harivansh    │ Furniture   │\n",
       "│ 2018-03-10 00:00:00 │ Harivansh    │ Electronics │\n",
       "│ 2018-03-10 00:00:00 │ Harivansh    │ Clothing    │\n",
       "│ 2018-03-10 00:00:00 │ Harivansh    │ Clothing    │\n",
       "│ 2018-03-10 00:00:00 │ Harivansh    │ Clothing    │\n",
       "└─────────────────────┴──────────────┴─────────────┘"
      ]
     },
     "execution_count": 27,
     "metadata": {},
     "output_type": "execute_result"
    }
   ],
   "source": [
    "sql('select order_date, customername, category from sales_df limit 5')"
   ]
  },
  {
   "cell_type": "markdown",
   "id": "99bb2380-3a19-4ea1-8244-f694dc0c304b",
   "metadata": {},
   "source": [
    "## Exploring the tables and columns\n",
    "\n",
    "For consistency and effieciency, SQL Database only allow one data type per column. That means integer columns can only store interger data and text columns can only store string data and so on.\n",
    "\n",
    "Formally, we call these types of data as data type or storage class, when you design the database, you must be carfully select the data type, different data type has different storage requirements and support different computation purpose, for example, numberic data type can be compared and can be add and subtract and string data type can repsent the person name and address, and you need some information of the data type and their specific requirements on the database designation, this course focus on the sql query, please google some more resource on the database design.\n",
    "\n",
    "Generally, Database all support four type of data, numberic, text, boolean and blob. \n",
    "- for the text, there are char, varchar, text data type.\n",
    "- for the numberic, there are int, float, double data type.\n",
    "- for the boolean, only the bool\n",
    "- for the blob, there are binary blob and text blob data type.\n",
    "\n",
    "  For the specific database, we can use the database specific sql command to retrieve the table definition info. "
   ]
  },
  {
   "cell_type": "markdown",
   "id": "5bcdd589-5f26-4dc4-8ad6-d9eeb4df8982",
   "metadata": {},
   "source": [
    "# Operation on the numberic columns\n",
    "A typical task for data analysts is to derive new columns from existing columns by using arithmetic operations.\n",
    "\n",
    "For example, the sales db, there are Amount and quanity columns, but no item price columns, if we want to know the item price of the each order, how to write the sql?\n",
    "```sql\n",
    "select order_id, amount/quanity as item_price from sales_df\n",
    "limit 3\n",
    "```\n",
    "That is, we can use the arithmetic operations in the SQL statements, and also we can SQL functions or user defined functions in the sQL statements.\n",
    "\n",
    "For example, we can only return the two decimal point of the item price by using the round functions:\n",
    "```sql\n",
    "select order_id, round(amount/quantity, 2) as item_price from sales_df\n",
    "```\n"
   ]
  },
  {
   "cell_type": "code",
   "execution_count": 32,
   "id": "5c747417-3ad1-43b7-921f-a28d4c6551ad",
   "metadata": {},
   "outputs": [
    {
     "data": {
      "text/plain": [
       "┌──────────┬────────────┐\n",
       "│ order_id │ item_price │\n",
       "│ varchar  │   double   │\n",
       "├──────────┼────────────┤\n",
       "│ B-26055  │     409.21 │\n",
       "│ B-26055  │      74.56 │\n",
       "│ B-26055  │      443.0 │\n",
       "└──────────┴────────────┘"
      ]
     },
     "execution_count": 32,
     "metadata": {},
     "output_type": "execute_result"
    }
   ],
   "source": [
    "sql('select order_id, round(amount/quantity, 2) as item_price from sales_df limit 3')"
   ]
  },
  {
   "cell_type": "markdown",
   "id": "a5c214dc-41a1-4bbc-9302-67a898437c23",
   "metadata": {},
   "source": [
    "And if your manager want to know the tax of the sales, we can easily calculate the tax with the arithmetic operations\n",
    "```sql\n",
    "SELECT \n",
    "    order_id, \n",
    "    round(amount * 0.07,2) as PST , \n",
    "    round(amount*0.05,2) as GST \n",
    "    FROM sales_df \n",
    "    LIMIT 5\n",
    "'''"
   ]
  },
  {
   "cell_type": "code",
   "execution_count": 36,
   "id": "ff807ad8-57fa-40bb-9a1f-b2f10c4e7c57",
   "metadata": {},
   "outputs": [
    {
     "data": {
      "text/plain": [
       "┌──────────┬────────┬───────────────┬───────────────┐\n",
       "│ order_id │ amount │      GST      │      PST      │\n",
       "│ varchar  │ int64  │ decimal(22,2) │ decimal(22,2) │\n",
       "├──────────┼────────┼───────────────┼───────────────┤\n",
       "│ B-26055  │   5729 │        286.45 │        401.03 │\n",
       "│ B-26055  │    671 │         33.55 │         46.97 │\n",
       "│ B-26055  │    443 │         22.15 │         31.01 │\n",
       "│ B-26055  │     57 │          2.85 │          3.99 │\n",
       "│ B-26055  │    227 │         11.35 │         15.89 │\n",
       "└──────────┴────────┴───────────────┴───────────────┘"
      ]
     },
     "execution_count": 36,
     "metadata": {},
     "output_type": "execute_result"
    }
   ],
   "source": [
    "sql('select order_id, amount, round(amount*0.05,2) as GST, round(amount*0.07,2) as PST from sales_df limit 5')"
   ]
  },
  {
   "cell_type": "markdown",
   "id": "a3ad5f86-9e4c-4eb2-9e36-d758233debaa",
   "metadata": {},
   "source": [
    "## Basic Comparison operations\n",
    "From the business perspective, we want to knwo which store has the positive profit and how about this month sales increase, and the profit margin.\n",
    "Let's start with the simple > and < to compare whether one value is greater or less than another.\n",
    "It's time to introduce the WHERE clause to filter the results we want from the SQL statements.\n",
    "1. SELECT: Specify what fields we want from the table\n",
    "2. FROM: Specify what table(or tables) we want from\n",
    "3. WHERE: Specify the criteria that records in those fields should meet, also can be defined as a filter\n",
    "4. LIMIT: Specify how many records to return.\n",
    "5. and in statement we can have ORDER BY, GROUP BY clause, we may introduced later.\n",
    "\n",
    "Let's see the WHERE clause in action. For Example, we want to see how about the order amount greater than $1000 by writing the following statement with WHERE:\n",
    "```sql\n",
    "SELECT order_id, amount \n",
    "FROM sales_df\n",
    "WHERE amount > 1000\n",
    "LIMIT 5;\n",
    "```\n"
   ]
  },
  {
   "cell_type": "code",
   "execution_count": 35,
   "id": "e58a7b7f-60e5-43b2-a950-be191fe28bb3",
   "metadata": {},
   "outputs": [
    {
     "data": {
      "text/plain": [
       "┌──────────┬────────┐\n",
       "│ order_id │ amount │\n",
       "│ varchar  │ int64  │\n",
       "├──────────┼────────┤\n",
       "│ B-26055  │   5729 │\n",
       "│ B-26055  │   1250 │\n",
       "│ B-26055  │   1218 │\n",
       "│ B-25993  │   4363 │\n",
       "│ B-25973  │   4141 │\n",
       "└──────────┴────────┘"
      ]
     },
     "execution_count": 35,
     "metadata": {},
     "output_type": "execute_result"
    }
   ],
   "source": [
    "sql('select order_id, amount from sales_df where amount > 1000 limit 5')"
   ]
  },
  {
   "cell_type": "markdown",
   "id": "77eab019-bf41-4914-8e3b-33997192db07",
   "metadata": {},
   "source": [
    "The Where clause is essentially used as a filter and return the records where the operators evaluate to TRUE\n",
    "\n",
    "Compare operator not only the > and <, Here is the list of compare operators:\n",
    "|Operator | Description |\n",
    "|------------|---------------|\n",
    "|= | Equal to |\n",
    "|>= | Greater than or equal to |\n",
    "|<= | Less than or equal to |\n",
    "|<> | Not equal to |\n",
    "\n",
    "Most compare operator to check the numberic values, like is 10 less than 8, actually is False.\n",
    "= and <> can also be used to check the value of text values. For Example, we can filter the result with category = 'Clothing', any record that category equal to 'Clothing' will be returned.\n"
   ]
  },
  {
   "cell_type": "code",
   "execution_count": 39,
   "id": "6ca988a1-d5cb-4dac-b175-dc4bd8f7c404",
   "metadata": {},
   "outputs": [
    {
     "data": {
      "text/plain": [
       "┌───────────────────┬──────────────┐\n",
       "│ month(order_date) │ count_star() │\n",
       "│       int64       │    int64     │\n",
       "├───────────────────┼──────────────┤\n",
       "│                 1 │          192 │\n",
       "│                 2 │          140 │\n",
       "│                 3 │          205 │\n",
       "│                 4 │          101 │\n",
       "│                 5 │          118 │\n",
       "│                 6 │          101 │\n",
       "│                 7 │           64 │\n",
       "│                 8 │          120 │\n",
       "│                 9 │           83 │\n",
       "│                10 │          106 │\n",
       "│                11 │          159 │\n",
       "│                12 │          111 │\n",
       "├───────────────────┴──────────────┤\n",
       "│ 12 rows                2 columns │\n",
       "└──────────────────────────────────┘"
      ]
     },
     "execution_count": 39,
     "metadata": {},
     "output_type": "execute_result"
    }
   ],
   "source": [
    "sql('select month(order_date),count(*) from sales_df group by month(order_date)')"
   ]
  },
  {
   "cell_type": "code",
   "execution_count": 41,
   "id": "f8efaa07-3b63-4524-99a0-2c99064578ae",
   "metadata": {},
   "outputs": [
    {
     "data": {
      "text/plain": [
       "┌─────────────────────────────────┐\n",
       "│ (sum(profit) / count(order_id)) │\n",
       "│             double              │\n",
       "├─────────────────────────────────┤\n",
       "│                          24.642 │\n",
       "└─────────────────────────────────┘"
      ]
     },
     "execution_count": 41,
     "metadata": {},
     "output_type": "execute_result"
    }
   ],
   "source": [
    "sql('select sum(profit)/count(order_id) from sales_df')"
   ]
  },
  {
   "cell_type": "code",
   "execution_count": 42,
   "id": "43270314-ee24-425b-8cbf-12c9fbd13ec4",
   "metadata": {},
   "outputs": [
    {
     "data": {
      "text/plain": [
       "┌─────────────┐\n",
       "│ avg(profit) │\n",
       "│   double    │\n",
       "├─────────────┤\n",
       "│      24.642 │\n",
       "└─────────────┘"
      ]
     },
     "execution_count": 42,
     "metadata": {},
     "output_type": "execute_result"
    }
   ],
   "source": [
    "sql('select avg(profit) from sales_df')"
   ]
  },
  {
   "cell_type": "code",
   "execution_count": 45,
   "id": "9573cf7f-27d7-4a16-839f-e9813f89f472",
   "metadata": {},
   "outputs": [
    {
     "data": {
      "text/plain": [
       "┌─────────────┬──────────────┐\n",
       "│  category   │ total_amount │\n",
       "│   varchar   │    int128    │\n",
       "├─────────────┼──────────────┤\n",
       "│ Furniture   │       127181 │\n",
       "│ Clothing    │       144323 │\n",
       "│ Electronics │       166267 │\n",
       "└─────────────┴──────────────┘"
      ]
     },
     "execution_count": 45,
     "metadata": {},
     "output_type": "execute_result"
    }
   ],
   "source": [
    "sql('select category, sum(amount) as total_amount  from sales_df group by category order by total_amount ')"
   ]
  },
  {
   "cell_type": "code",
   "execution_count": null,
   "id": "413e2a5c-95f7-4d8e-9a26-f6d9f37388bb",
   "metadata": {},
   "outputs": [],
   "source": []
  }
 ],
 "metadata": {
  "kernelspec": {
   "display_name": "Python 3 (ipykernel)",
   "language": "python",
   "name": "python3"
  },
  "language_info": {
   "codemirror_mode": {
    "name": "ipython",
    "version": 3
   },
   "file_extension": ".py",
   "mimetype": "text/x-python",
   "name": "python",
   "nbconvert_exporter": "python",
   "pygments_lexer": "ipython3",
   "version": "3.11.7"
  }
 },
 "nbformat": 4,
 "nbformat_minor": 5
}
